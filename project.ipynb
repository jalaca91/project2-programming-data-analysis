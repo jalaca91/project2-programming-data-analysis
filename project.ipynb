{
 "cells": [
  {
   "cell_type": "markdown",
   "metadata": {},
   "source": [
    "# Project 2 : An analysis of paleo-present climate data\n",
    "\n",
    "This jupyter notebook contains the second project for the programming and data analytics module  \n",
    "***"
   ]
  },
  {
   "cell_type": "markdown",
   "metadata": {},
   "source": [
    "## Index  \n",
    "\n",
    "1. Objetives\n",
    "2. Used technologies\n",
    "3. Theme of the project\n",
    "4. import database\n",
    "5. Analysis\n",
    "6. Conclusions\n",
    "7. References  "
   ]
  },
  {
   "cell_type": "markdown",
   "metadata": {},
   "source": [
    "***"
   ]
  },
  {
   "cell_type": "markdown",
   "metadata": {},
   "source": [
    "## Objetives  \n",
    "\n",
    "1. Analyse CO2 vs Temperature Anomaly from 800kyrs – present.  \n",
    "2. Examine one other (paleo/modern) features (e.g. CH4 or polar ice-coverage)  \n",
    "3. Examine Irish context:  \n",
    "    o Climate change signals: (see Maynooth study: The emergence of a climate change  \n",
    "    signal in long-term Irish meteorological observations - ScienceDirect) \n",
    "    \n",
    "4. Fuse and analyse data from various data sources and format fused data set as a pandas  \n",
    "  dataframe and export to csv and json formats.  \n",
    "5. For all of the above variables, analyse the data, the trends and the relationships between  \n",
    "  them (temporal leads/lags/frequency analysis).  \n",
    "6. Predict global temperature anomaly over next few decades (synthesise data) and compare to  \n",
    "  published climate models if atmospheric CO2 trends continue  \n",
    "7. Comment on accelerated warming based on very latest features (e.g. temperature/polar-icecoverage)  \n"
   ]
  },
  {
   "cell_type": "markdown",
   "metadata": {},
   "source": [
    "***\n",
    "## Used technologies  \n",
    "\n",
    "**Numpy**  \n",
    "Is used for numerical computation that allows you to work with large, multi-dimensional arrays and matrices of numerical data.  \n",
    "It provides a wide range of mathematical functions to operate on these arrays, making it an essential tool for scientific computing, data analysis, and machine learning.  \n",
    "To find out more:  \n",
    "https://numpy.org/  \n",
    "\n",
    "**Pandas**  \n",
    "Is a fast, powerful, flexible and easy to use open source data analysis and manipulation tool, built on top of the Python programming language. https://pandas.pydata.org/  \n",
    "\n",
    "**Matplotlib**  \n",
    "Is a plotting library for the Python programming language that provides a wide variety of high-quality 2D and 3D graphs and plots.\n",
    "More of this:\n",
    "https://matplotlib.org/\n",
    "\n",
    "**Seaborn**  \n",
    "Is a data visualization library in Python built on top of Matplotlib.\n",
    "It provides a high-level interface for creating informative and statistical graphics.\n",
    "https://seaborn.pydata.org/\n",
    "\n",
    "**Scikit-learn**  \n",
    "Offers a wide range of statistical and mathematical tools that operate on NumPy arrays. It includes functions for descriptive statistics, statistical tests, probability distributions, among others.  \n",
    "https://scikit-learn.org/stable/"
   ]
  },
  {
   "cell_type": "code",
   "execution_count": 9,
   "metadata": {},
   "outputs": [],
   "source": [
    "import numpy as np  \n",
    "import pandas as pd\n",
    "import matplotlib.pyplot as plt\n",
    "import seaborn as sns\n",
    "from sklearn.linear_model import LinearRegression"
   ]
  },
  {
   "cell_type": "markdown",
   "metadata": {},
   "source": [
    "***"
   ]
  },
  {
   "cell_type": "markdown",
   "metadata": {},
   "source": [
    "## Theme of the project  \n",
    "\n",
    "The theme of the project is a brief analysis and review of a study presented in 2008 in the journal Nature in 2008 [1]. This study analyzed Antarctic ice cores to reconstruct past atmospheric carbon dioxide (CO2) levels.\n",
    "\n",
    "Lüthi and his team used ice cores to examine how CO2 levels have varied over hundreds of thousands of years.  \n",
    "Their findings revealed a significant relationship between changes in CO2 levels and temperature variations over past climate periods.  \n",
    "They showed that changes in CO2 levels were closely related to changes in global temperature, supporting the idea that CO2 is an important driver of climate change.\n",
    "\n",
    "This study provided valuable insight into how CO2 levels have fluctuated over Earth's history and how these changes have influenced climatic conditions.\n",
    "\n",
    "CO2 emissions from fossil fuels have increased since the industrial revolution (i.e., since the mid-1700s) and, by the 1950s, the atmospheric concentration of CO2 had risen from 284 parts per million (ppm) to 300 ppm above pre-industrial levels, the highest level in at least 800,000 years (Luthi et al., 2008).[2]\n",
    "\n",
    "For this study there were several limitations, such as the availability or accuracy of the data, since it covers a period of tens of thousands of years, but a series of conclusions were drawn that are intended to be replicated in the present project.\n"
   ]
  },
  {
   "cell_type": "markdown",
   "metadata": {},
   "source": [
    "***"
   ]
  },
  {
   "cell_type": "markdown",
   "metadata": {},
   "source": [
    "## Import database"
   ]
  },
  {
   "cell_type": "markdown",
   "metadata": {},
   "source": [
    "In order to see this correlation between CO2 and temperature,several databases that collect this information will be used.  \n",
    "All the databases used are located in the data subfolder.  \n",
    "\n",
    "First of all, the necessary transformations must be established to obtain the information we need and from there, start the analysis, obtain conclusions and be able to visualize it in order to have a better understanding of the results obtained.  \n",
    "\n",
    "The following databases are used for the project:\n",
    "\n",
    "1) **Temp Data from Jouzel**  \n",
    "     This file authored by French climate laureate Jean Jouzel shows how a detailed analysis of a specific ice core in Antarctica reveals crucial information about past climatic changes, especially in relation to temperature. [3]  \n",
    "\n",
    "2) **CO2 data from IPCC Report**  \n",
    "     This provides the following: Composite of atmospheric CO2 records from Antarctic ice cores. [4]  \n",
    "     This new version of CO2 composite replaces the old version of Lüthi et al. (2008), which contains the analytical bias described in the article mentioned above and lower quality data and many other sections.  \n",
    "\n",
    "3) **A third database** related to objective item 3. The aim is to find a phenomenon that can be related to the previous ones.\n",
    "   It can be found at the following link:  \n",
    "   https://www.met.ie/climate/available-data/long-term-data-sets/\n"
   ]
  },
  {
   "cell_type": "code",
   "execution_count": 10,
   "metadata": {},
   "outputs": [
    {
     "data": {
      "text/html": [
       "<div>\n",
       "<style scoped>\n",
       "    .dataframe tbody tr th:only-of-type {\n",
       "        vertical-align: middle;\n",
       "    }\n",
       "\n",
       "    .dataframe tbody tr th {\n",
       "        vertical-align: top;\n",
       "    }\n",
       "\n",
       "    .dataframe thead th {\n",
       "        text-align: right;\n",
       "    }\n",
       "</style>\n",
       "<table border=\"1\" class=\"dataframe\">\n",
       "  <thead>\n",
       "    <tr style=\"text-align: right;\">\n",
       "      <th></th>\n",
       "      <th>bag</th>\n",
       "      <th>ztop</th>\n",
       "      <th>EDC3béta</th>\n",
       "      <th>AICC2012</th>\n",
       "      <th>deutfinal</th>\n",
       "      <th>temp</th>\n",
       "      <th>acc-EDC3beta</th>\n",
       "    </tr>\n",
       "  </thead>\n",
       "  <tbody>\n",
       "    <tr>\n",
       "      <th>0</th>\n",
       "      <td>1</td>\n",
       "      <td>0.00</td>\n",
       "      <td>-50.00000</td>\n",
       "      <td>-55.000000</td>\n",
       "      <td>NaN</td>\n",
       "      <td>218.3</td>\n",
       "      <td>3.105321</td>\n",
       "    </tr>\n",
       "    <tr>\n",
       "      <th>1</th>\n",
       "      <td>2</td>\n",
       "      <td>0.55</td>\n",
       "      <td>-43.55977</td>\n",
       "      <td>-50.513333</td>\n",
       "      <td>NaN</td>\n",
       "      <td>218.3</td>\n",
       "      <td>3.104805</td>\n",
       "    </tr>\n",
       "    <tr>\n",
       "      <th>2</th>\n",
       "      <td>3</td>\n",
       "      <td>1.10</td>\n",
       "      <td>-37.44019</td>\n",
       "      <td>-46.026667</td>\n",
       "      <td>NaN</td>\n",
       "      <td>218.3</td>\n",
       "      <td>3.104404</td>\n",
       "    </tr>\n",
       "    <tr>\n",
       "      <th>3</th>\n",
       "      <td>4</td>\n",
       "      <td>1.65</td>\n",
       "      <td>-31.64156</td>\n",
       "      <td>-41.540000</td>\n",
       "      <td>NaN</td>\n",
       "      <td>218.3</td>\n",
       "      <td>3.104025</td>\n",
       "    </tr>\n",
       "    <tr>\n",
       "      <th>4</th>\n",
       "      <td>5</td>\n",
       "      <td>2.20</td>\n",
       "      <td>-24.55278</td>\n",
       "      <td>-34.516667</td>\n",
       "      <td>NaN</td>\n",
       "      <td>218.3</td>\n",
       "      <td>3.103453</td>\n",
       "    </tr>\n",
       "  </tbody>\n",
       "</table>\n",
       "</div>"
      ],
      "text/plain": [
       "   bag  ztop  EDC3béta   AICC2012  deutfinal   temp  acc-EDC3beta\n",
       "0    1  0.00 -50.00000 -55.000000        NaN  218.3      3.105321\n",
       "1    2  0.55 -43.55977 -50.513333        NaN  218.3      3.104805\n",
       "2    3  1.10 -37.44019 -46.026667        NaN  218.3      3.104404\n",
       "3    4  1.65 -31.64156 -41.540000        NaN  218.3      3.104025\n",
       "4    5  2.20 -24.55278 -34.516667        NaN  218.3      3.103453"
      ]
     },
     "execution_count": 10,
     "metadata": {},
     "output_type": "execute_result"
    }
   ],
   "source": [
    "# Read data from the Temp Data from Jozuel  \n",
    "\n",
    "temp_file_path = \"data\\Temp Data from Jouzel.xls\" \n",
    "temp_df = pd.read_excel(temp_file_path)  \n",
    "temp_df.head()\n"
   ]
  },
  {
   "cell_type": "markdown",
   "metadata": {},
   "source": []
  },
  {
   "cell_type": "code",
   "execution_count": 11,
   "metadata": {},
   "outputs": [],
   "source": [
    "# Extracting column 3 (EDC3 age scale) and column 5 (Temperature estimate)  \n",
    "\n",
    "edc3_age = temp_df[\"EDC3béta\"]\n",
    "temp_estimate = temp_df[\"temp\"]"
   ]
  },
  {
   "cell_type": "markdown",
   "metadata": {},
   "source": [
    "***"
   ]
  },
  {
   "cell_type": "markdown",
   "metadata": {},
   "source": [
    "## References\n",
    "\n",
    "[1] Lüthi, D., Le Floch, M., Bereiter, B., Blunier, T., Barnola, J.-M., Siegenthaler, U., Raynaud, D., Jouzel, J., Fischer, H., Kawamura, K.,        Stocker, T.F., 2008. High-resolution carbon dioxide concentration record 650,000–800,000 years before present. Nature 453, 379–382  \n",
    "https://www.nature.com/articles/nature06949\n",
    "\n",
    "[2] WWF, WWf authors. https://wwf.panda.org/es/cambio_climatico1/importanciaclimatica/  \n",
    "\n",
    "[3] Jouzel, Jean; Masson-Delmotte, Valerie (2007): EPICA Dome C Ice Core 800KYr deuterium data and temperature estimates. PANGAEA, https://doi.pangaea.de/10.1594/PANGAEA.683655  \n",
    "\n",
    "[4] Bereiter et al. (2014), Revision of the EPICA Dome C CO2 record from 800 to 600 kyr before present, Geophysical Research Letters, doi: 10.1002/2014GL061957."
   ]
  }
 ],
 "metadata": {
  "kernelspec": {
   "display_name": "base",
   "language": "python",
   "name": "python3"
  },
  "language_info": {
   "codemirror_mode": {
    "name": "ipython",
    "version": 3
   },
   "file_extension": ".py",
   "mimetype": "text/x-python",
   "name": "python",
   "nbconvert_exporter": "python",
   "pygments_lexer": "ipython3",
   "version": "3.10.13"
  }
 },
 "nbformat": 4,
 "nbformat_minor": 2
}
