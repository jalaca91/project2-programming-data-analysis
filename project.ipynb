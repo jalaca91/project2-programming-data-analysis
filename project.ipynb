{
 "cells": [
  {
   "cell_type": "markdown",
   "metadata": {},
   "source": [
    "# Project 2 : An analysis of paleo-present climate data\n",
    "\n",
    "This jupyter notebook contains the second project for the programming and data analytics module  \n",
    "***"
   ]
  },
  {
   "cell_type": "markdown",
   "metadata": {},
   "source": [
    "## Index  \n",
    "\n",
    "1. Objetives\n",
    "2. Used technologies\n",
    "3. Theme of the project\n",
    "4. import database\n",
    "5. Analysis\n",
    "6. Conclusions\n",
    "7. References  "
   ]
  },
  {
   "cell_type": "markdown",
   "metadata": {},
   "source": [
    "***"
   ]
  },
  {
   "cell_type": "markdown",
   "metadata": {},
   "source": [
    "## Objetives  \n",
    "\n",
    "1. Analyse CO2 vs Temperature Anomaly from 800kyrs – present.  \n",
    "2. Examine one other (paleo/modern) features (e.g. CH4 or polar ice-coverage)  \n",
    "3. Examine Irish context:  \n",
    "    o Climate change signals: (see Maynooth study: The emergence of a climate change  \n",
    "    signal in long-term Irish meteorological observations - ScienceDirect) \n",
    "    \n",
    "4. Fuse and analyse data from various data sources and format fused data set as a pandas  \n",
    "  dataframe and export to csv and json formats.  \n",
    "5. For all of the above variables, analyse the data, the trends and the relationships between  \n",
    "  them (temporal leads/lags/frequency analysis).  \n",
    "6. Predict global temperature anomaly over next few decades (synthesise data) and compare to  \n",
    "  published climate models if atmospheric CO2 trends continue  \n",
    "7. Comment on accelerated warming based on very latest features (e.g. temperature/polar-icecoverage)  \n"
   ]
  },
  {
   "cell_type": "markdown",
   "metadata": {},
   "source": [
    "***\n",
    "## Used technologies  \n",
    "\n",
    "**Numpy**  \n",
    "Is used for numerical computation that allows you to work with large, multi-dimensional arrays and matrices of numerical data.  \n",
    "It provides a wide range of mathematical functions to operate on these arrays, making it an essential tool for scientific computing, data analysis, and machine learning.  \n",
    "To find out more:  \n",
    "https://numpy.org/  \n",
    "\n",
    "**Pandas**  \n",
    "Is a fast, powerful, flexible and easy to use open source data analysis and manipulation tool, built on top of the Python programming language. https://pandas.pydata.org/  \n",
    "\n",
    "**Matplotlib**  \n",
    "Is a plotting library for the Python programming language that provides a wide variety of high-quality 2D and 3D graphs and plots.\n",
    "More of this:\n",
    "https://matplotlib.org/\n",
    "\n",
    "**Seaborn**  \n",
    "Is a data visualization library in Python built on top of Matplotlib.\n",
    "It provides a high-level interface for creating informative and statistical graphics.\n",
    "https://seaborn.pydata.org/\n",
    "\n",
    "**Scikit-learn**  \n",
    "Offers a wide range of statistical and mathematical tools that operate on NumPy arrays. It includes functions for descriptive statistics, statistical tests, probability distributions, among others.  \n",
    "https://scikit-learn.org/stable/"
   ]
  },
  {
   "cell_type": "code",
   "execution_count": 1,
   "metadata": {},
   "outputs": [],
   "source": [
    "import numpy as np  \n",
    "import pandas as pd\n",
    "import matplotlib.pyplot as plt\n",
    "import seaborn as sns\n",
    "from sklearn.linear_model import LinearRegression"
   ]
  }
 ],
 "metadata": {
  "kernelspec": {
   "display_name": "base",
   "language": "python",
   "name": "python3"
  },
  "language_info": {
   "codemirror_mode": {
    "name": "ipython",
    "version": 3
   },
   "file_extension": ".py",
   "mimetype": "text/x-python",
   "name": "python",
   "nbconvert_exporter": "python",
   "pygments_lexer": "ipython3",
   "version": "3.10.13"
  }
 },
 "nbformat": 4,
 "nbformat_minor": 2
}
